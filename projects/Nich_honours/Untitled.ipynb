{
 "cells": [
  {
   "cell_type": "code",
   "execution_count": 2,
   "id": "af47bd7e",
   "metadata": {},
   "outputs": [],
   "source": [
    "from astropy.table import Table as Table\n",
    "from astropy.io import fits as fits\n",
    "import matplotlib.pyplot as plt\n",
    "import matplotlib\n",
    "import math\n",
    "import numpy as np\n",
    "import imp\n",
    "from scipy.integrate import simps\n",
    "import sys\n",
    "sys.path.insert(0, '..')\n",
    "import honpy as hon"
   ]
  },
  {
   "cell_type": "code",
   "execution_count": 4,
   "id": "994c330e",
   "metadata": {},
   "outputs": [],
   "source": [
    "data=fits.open('spheresyn/3_naive_naive_age_check/3_naive_naive_age_check_data.fits')\n",
    "data.info()"
   ]
  },
  {
   "cell_type": "code",
   "execution_count": 6,
   "id": "686d2688",
   "metadata": {},
   "outputs": [],
   "source": [
    "sim=Table.read(data,hdu=1)"
   ]
  },
  {
   "cell_type": "code",
   "execution_count": 8,
   "id": "df206f51",
   "metadata": {},
   "outputs": [
    {
     "data": {
      "text/plain": [
       "<TableColumns names=('name','component','age','x0','y0','z0','u0','v0','w0','x_now','y_now','z_now','u_now','v_now','w_now','ra','ra_error','dec','dec_error','parallax','parallax_error','pmra','pmra_error','pmdec','pmdec_error','radial_velocity','radial_velocity_error','X','X_error','Y','Y_error','Z','Z_error','U','U_error','V','V_error','W','W_error','X_Y_corr','X_Z_corr','X_U_corr','X_V_corr','X_W_corr','Y_Z_corr','Y_U_corr','Y_V_corr','Y_W_corr','Z_U_corr','Z_V_corr','Z_W_corr','U_V_corr','U_W_corr','V_W_corr','background_log_overlap')>"
      ]
     },
     "execution_count": 8,
     "metadata": {},
     "output_type": "execute_result"
    }
   ],
   "source": [
    "sim.columns"
   ]
  },
  {
   "cell_type": "code",
   "execution_count": 33,
   "id": "e097c77f",
   "metadata": {},
   "outputs": [
    {
     "data": {
      "text/plain": [
       "<bound method Figure.show of <Figure size 432x288 with 1 Axes>>"
      ]
     },
     "execution_count": 33,
     "metadata": {},
     "output_type": "execute_result"
    },
    {
     "data": {
      "image/png": "[encoded data removed]",
      "text/plain": [
       "<Figure size 432x288 with 1 Axes>"
      ]
     },
     "metadata": {
      "needs_background": "light"
     },
     "output_type": "display_data"
    }
   ],
   "source": [
    "fig, ax = plt.subplots()\n",
    "ax.scatter(sim['x_now'][sim['age'] == 10.0],sim['y_now'][sim['age'] == 10.0],c='red',s=1, alpha=0.5)\n",
    "ax.scatter(sim['x_now'][sim['age'] == 25.0],sim['y_now'][sim['age'] == 25.0],c='blue',s=1, alpha=0.5)\n",
    "fig.savefig('symd.png')\n",
    "#fig.savefig('KerSynthfc.eps')\n",
    "fig.show"
   ]
  },
  {
   "cell_type": "code",
   "execution_count": 43,
   "id": "56099bb9",
   "metadata": {},
   "outputs": [
    {
     "data": {
      "text/plain": [
       "(array([ 2.,  8.,  5., 17., 19., 21., 17., 17.,  7.,  7.]),\n",
       " array([-451.31016475, -369.81071907, -288.31127339, -206.8118277 ,\n",
       "        -125.31238202,  -43.81293634,   37.68650934,  119.18595502,\n",
       "         200.68540071,  282.18484639,  363.68429207]),\n",
       " <BarContainer object of 10 artists>)"
      ]
     },
     "execution_count": 43,
     "metadata": {},
     "output_type": "execute_result"
    },
    {
     "data": {
      "image/png": "[encoded data removed]",
      "text/plain": [
       "<Figure size 432x288 with 1 Axes>"
      ]
     },
     "metadata": {
      "needs_background": "light"
     },
     "output_type": "display_data"
    }
   ],
   "source": [
    "plt.hist(sim['x_now'][sim['age'] == 0.0])\n",
    "plt.hist(sim['x_now'][sim['age'] == 10.0])\n",
    "plt.hist(sim['x_now'][sim['age'] == 25.0])"
   ]
  },
  {
   "cell_type": "code",
   "execution_count": null,
   "id": "e32658fd",
   "metadata": {},
   "outputs": [],
   "source": []
  }
 ],
 "metadata": {
  "kernelspec": {
   "display_name": "Python 3",
   "language": "python",
   "name": "python3"
  },
  "language_info": {
   "codemirror_mode": {
    "name": "ipython",
    "version": 3
   },
   "file_extension": ".py",
   "mimetype": "text/x-python",
   "name": "python",
   "nbconvert_exporter": "python",
   "pygments_lexer": "ipython3",
   "version": "3.8.8"
  }
 },
 "nbformat": 4,
 "nbformat_minor": 5
}
